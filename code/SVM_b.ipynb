{
 "cells": [
  {
   "cell_type": "code",
   "execution_count": 1,
   "metadata": {},
   "outputs": [],
   "source": [
    "import os\n",
    "import numpy as np\n",
    "import pandas as pd\n",
    "import sklearn\n",
    "from sklearn import multioutput\n",
    "from sklearn import multiclass\n",
    "from sklearn import metrics\n",
    "from sklearn import svm"
   ]
  },
  {
   "cell_type": "code",
   "execution_count": 2,
   "metadata": {
    "scrolled": true
   },
   "outputs": [
    {
     "data": {
      "text/plain": [
       "['chinese',\n",
       " 'english',\n",
       " 'math',\n",
       " 'society',\n",
       " 'science',\n",
       " 'PR',\n",
       " 'H_GPA',\n",
       " 'B',\n",
       " 'B_10_A',\n",
       " 'B_10_B',\n",
       " 'B_10_C',\n",
       " 'B_10_D',\n",
       " 'B_10_E',\n",
       " 'B_10_F',\n",
       " 'B_10_G',\n",
       " 'B_10_H',\n",
       " 'B_10_I',\n",
       " 'B_10_J',\n",
       " 'B_5_A',\n",
       " 'B_5_B',\n",
       " 'B_5_C',\n",
       " 'B_5_D',\n",
       " 'B_5_F',\n",
       " 'B_3_A',\n",
       " 'B_3_B',\n",
       " 'B_3_F',\n",
       " 'B_2_A',\n",
       " 'B_2_F']"
      ]
     },
     "execution_count": 2,
     "metadata": {},
     "output_type": "execute_result"
    }
   ],
   "source": [
    "os.chdir('C:/Users/tku/Desktop/data/finish')\n",
    "filename = 'b.csv'\n",
    "df = pd.read_csv(filename)\n",
    "df_dum = pd.get_dummies(df)\n",
    "list(df_dum)"
   ]
  },
  {
   "cell_type": "code",
   "execution_count": 3,
   "metadata": {},
   "outputs": [],
   "source": [
    "train_set,  test_set = \\\n",
    "              np.split(df_dum.sample(frac=1, random_state=1), \n",
    "                       [ int(.9*len(df_dum))])"
   ]
  },
  {
   "cell_type": "code",
   "execution_count": 4,
   "metadata": {},
   "outputs": [],
   "source": [
    "X_train = train_set[['chinese', 'english', 'math', 'society', 'science', 'PR', 'H_GPA']]\n",
    "#X_validate = validate_set[['chinese', 'english', 'math', 'society', 'science', 'PR', 'H_GPA']]\n",
    "X_test = test_set[['chinese', 'english', 'math', 'society', 'science', 'PR', 'H_GPA']]\n",
    "\n",
    "Y_train10= train_set[['B_10_A', 'B_10_B', 'B_10_C', 'B_10_D', 'B_10_E', 'B_10_F', 'B_10_G', 'B_10_H', 'B_10_I', 'B_10_J']]\n",
    "#Y_validate10= validate_set[['B_10_A', 'B_10_B', 'B_10_C', 'B_10_D', 'B_10_E', 'B_10_F', 'B_10_G', 'B_10_H', 'B_10_I', 'B_10_J']]\n",
    "Y_test10= test_set[['B_10_A', 'B_10_B', 'B_10_C', 'B_10_D', 'B_10_E', 'B_10_F', 'B_10_G', 'B_10_H', 'B_10_I', 'B_10_J']]\n",
    "\n",
    "Y_train5= train_set[['B_5_A', 'B_5_B', 'B_5_C', 'B_5_D', 'B_5_F']]\n",
    "#Y_validate5= validate_set[['B_5_A', 'B_5_B', 'B_5_C', 'B_5_D', 'B_5_F']]\n",
    "Y_test5= test_set[['B_5_A', 'B_5_B', 'B_5_C', 'B_5_D', 'B_5_F']]\n",
    "\n",
    "Y_train3= train_set[['B_3_A', 'B_3_B', 'B_3_F']]\n",
    "#Y_validate3= validate_set[['B_3_A', 'B_3_B', 'B_3_F']]\n",
    "Y_test3= test_set[['B_3_A', 'B_3_B', 'B_3_F']]\n",
    "\n",
    "Y_train2= train_set[['B_2_A', 'B_2_F']]\n",
    "#Y_validate2= validate_set[['B_2_A', 'B_2_F']]\n",
    "Y_test2= test_set[['B_2_A', 'B_2_F']]"
   ]
  },
  {
   "cell_type": "markdown",
   "metadata": {},
   "source": [
    "\n",
    "# SVM"
   ]
  },
  {
   "cell_type": "code",
   "execution_count": 5,
   "metadata": {},
   "outputs": [],
   "source": [
    "kernel = 'poly'\n",
    "shape = 'ovr'\n",
    "degree = 3\n",
    "C=1"
   ]
  },
  {
   "cell_type": "code",
   "execution_count": 6,
   "metadata": {},
   "outputs": [
    {
     "name": "stdout",
     "output_type": "stream",
     "text": [
      "in ovr\n"
     ]
    }
   ],
   "source": [
    "if kernel == 'poly':\n",
    "    clf10 = svm.SVC(kernel=kernel,C=C,decision_function_shape=shape,degree=degree)\n",
    "    clf5 = svm.SVC(kernel=kernel,C=C,decision_function_shape=shape,degree=degree)\n",
    "    clf3 = svm.SVC(kernel=kernel,C=C,decision_function_shape=shape,degree=degree)\n",
    "    clf2 = svm.SVC(kernel=kernel,C=C,decision_function_shape=shape,degree=degree)\n",
    "else:\n",
    "    clf10 = svm.SVC(kernel=kernel,C=C,decision_function_shape=shape)\n",
    "    clf5 = svm.SVC(kernel=kernel,C=C,decision_function_shape=shape)\n",
    "    clf3 = svm.SVC(kernel=kernel,C=C,decision_function_shape=shape)\n",
    "    clf2 = svm.SVC(kernel=kernel,C=C,decision_function_shape=shape)\n",
    "if shape == 'ovo':\n",
    "    print(\"in ovo\")\n",
    "    clfm10 = multiclass.OneVsOneClassifier(clf10)\n",
    "    clfm5 = multiclass.OneVsOneClassifier(clf5)\n",
    "    clfm3 = multiclass.OneVsOneClassifier(clf3)\n",
    "    clfm2 = multiclass.OneVsOneClassifier(clf2)\n",
    "else:\n",
    "    print(\"in ovr\")\n",
    "    clfm10 = multiclass.OneVsRestClassifier(clf10)\n",
    "    clfm5 = multiclass.OneVsRestClassifier(clf5)\n",
    "    clfm3 = multiclass.OneVsRestClassifier(clf3)\n",
    "    clfm2 = multiclass.OneVsRestClassifier(clf2)\n",
    "tclfm10 = multioutput.MultiOutputClassifier(clfm10)\n",
    "tclfm5 = multioutput.MultiOutputClassifier(clfm5)\n",
    "tclfm3 = multioutput.MultiOutputClassifier(clfm3)\n",
    "tclfm2= multioutput.MultiOutputClassifier(clfm2)"
   ]
  },
  {
   "cell_type": "code",
   "execution_count": 7,
   "metadata": {
    "scrolled": true
   },
   "outputs": [
    {
     "data": {
      "text/plain": [
       "MultiOutputClassifier(estimator=OneVsRestClassifier(estimator=SVC(C=1,\n",
       "                                                                  kernel='poly')))"
      ]
     },
     "execution_count": 7,
     "metadata": {},
     "output_type": "execute_result"
    }
   ],
   "source": [
    "tclfm10.fit(X_train, Y_train10)\n",
    "tclfm5.fit(X_train, Y_train5)\n",
    "tclfm3.fit(X_train, Y_train3)\n",
    "tclfm2.fit(X_train, Y_train2)"
   ]
  },
  {
   "cell_type": "code",
   "execution_count": 8,
   "metadata": {
    "scrolled": true
   },
   "outputs": [],
   "source": [
    "pred10= tclfm10.predict(X_test)\n",
    "pred5= tclfm5.predict(X_test)\n",
    "pred3= tclfm3.predict(X_test)\n",
    "pred2= tclfm2.predict(X_test)\n",
    "score10 = metrics.accuracy_score(Y_test10,pred10)*100\n",
    "score5 = metrics.accuracy_score(Y_test5,pred5)*100\n",
    "score3 = metrics.accuracy_score(Y_test3,pred3)*100\n",
    "score2 = metrics.accuracy_score(Y_test2,pred2)*100"
   ]
  },
  {
   "cell_type": "code",
   "execution_count": 9,
   "metadata": {},
   "outputs": [],
   "source": [
    "Y_pred10c = pred10\n",
    "Y_test10c = Y_test10.to_numpy()\n",
    "Y_pred5c = pred5\n",
    "Y_test5c = Y_test5.to_numpy()"
   ]
  },
  {
   "cell_type": "code",
   "execution_count": 10,
   "metadata": {},
   "outputs": [
    {
     "name": "stdout",
     "output_type": "stream",
     "text": [
      "oneAway accurency of 10class =3.03%\n",
      "oneAway accurency of 5class =3.03%\n"
     ]
    }
   ],
   "source": [
    "oneAway10 =1\n",
    "            \n",
    "for i in range(Y_pred10c.shape[0]):\n",
    "    for j in range(Y_pred10c.shape[1]):\n",
    "        if Y_test10c[i,j] == 1:\n",
    "            if j == 0:\n",
    "                if Y_pred10c[i,j] == 1 or Y_pred10c[i,j+1] == 1:\n",
    "                    oneAway10 = oneAway10 +1\n",
    "            elif j == Y_pred10c.shape[1]-1:\n",
    "                if Y_pred10c[i,j-1] == 1 or Y_pred10c[i,j] == 1:\n",
    "                    oneAway10 = oneAway10 +1\n",
    "            else:\n",
    "                if Y_pred10c[i,j-1] == 1 or Y_pred10c[i,j] or Y_pred10c[i,j+1] == 1:\n",
    "                    oneAway10 = oneAway10 +1\n",
    "            break\n",
    "print(\"oneAway accurency of 10class =%.2f%%\" % (oneAway10/Y_pred10c.shape[0]*100))\n",
    "\n",
    "oneAway5 =1\n",
    "            \n",
    "for i in range(Y_pred5c.shape[0]):\n",
    "    for j in range(Y_pred5c.shape[1]):\n",
    "        if Y_test5c[i,j] == 1:\n",
    "            if j == 0:\n",
    "                if Y_pred5c[i,j] == 1 or Y_pred5c[i,j+1] == 1:\n",
    "                    oneAway5 = oneAway5 +1\n",
    "            elif j == 3:\n",
    "                if Y_pred5c[i,j-1] == 1 or Y_pred5c[i,j] == 1:\n",
    "                    oneAway5 = oneAway5 +1\n",
    "            elif j == 4:\n",
    "                if Y_pred5c[i,j] == 1:\n",
    "                    oneAway5 = oneAway5 +1\n",
    "            else:\n",
    "                if Y_pred5c[i,j-1] == 1 or Y_pred5c[i,j] or Y_pred5c[i,j+1] == 1:\n",
    "                    oneAway5 = oneAway5 +1\n",
    "            break\n",
    "print(\"oneAway accurency of 5class =%.2f%%\" % (oneAway5/Y_pred5c.shape[0]*100))"
   ]
  },
  {
   "cell_type": "code",
   "execution_count": 11,
   "metadata": {},
   "outputs": [],
   "source": [
    "from tempfile import NamedTemporaryFile\n",
    "import shutil\n",
    "import csv\n",
    "\n",
    "\n",
    "fields = ['b','c10_accur','c10_oneAway','c5_accur','c5_oneAway','c3_accur','c2_accur']\n",
    "writelist = [\"SVM\",\"b\",\n",
    "             \"%.2f%%\" % (metrics.accuracy_score(Y_test10,pred10)*100),\"%.2f%%\" % (oneAway10/Y_pred10c.shape[0]*100),\n",
    "             \"%.2f%%\" % (metrics.accuracy_score(Y_test5,pred5)*100),\"%.2f%%\" % (oneAway5/Y_pred5c.shape[0]*100),\n",
    "             \"%.2f%%\" % (metrics.accuracy_score(Y_test3,pred3)*100),\"%.2f%%\" % (metrics.accuracy_score(Y_test2,pred2)*100)]\n",
    "\n",
    "with open('result.csv', 'a', newline='') as csvfile:\n",
    "    writer = csv.writer(csvfile)\n",
    "    writer.writerow(writelist)\n",
    "    csvfile.close()"
   ]
  }
 ],
 "metadata": {
  "kernelspec": {
   "display_name": "Python 3",
   "language": "python",
   "name": "python3"
  },
  "language_info": {
   "codemirror_mode": {
    "name": "ipython",
    "version": 3
   },
   "file_extension": ".py",
   "mimetype": "text/x-python",
   "name": "python",
   "nbconvert_exporter": "python",
   "pygments_lexer": "ipython3",
   "version": "3.8.5"
  }
 },
 "nbformat": 4,
 "nbformat_minor": 4
}

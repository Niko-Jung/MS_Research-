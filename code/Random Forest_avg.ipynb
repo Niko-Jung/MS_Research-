{
 "cells": [
  {
   "cell_type": "code",
   "execution_count": 1,
   "metadata": {},
   "outputs": [],
   "source": [
    "import os\n",
    "import numpy as np\n",
    "import matplotlib.pyplot as plt\n",
    "import pandas as pd\n",
    "import sklearn\n",
    "from sklearn.ensemble import RandomForestClassifier\n",
    "from sklearn import multioutput\n",
    "from sklearn import multiclass\n",
    "from sklearn.model_selection import train_test_split\n",
    "from sklearn.model_selection import GridSearchCV\n",
    "from sklearn import metrics\n",
    "from sklearn import svm\n",
    "from sklearn import tree"
   ]
  },
  {
   "cell_type": "code",
   "execution_count": 2,
   "metadata": {
    "scrolled": true
   },
   "outputs": [
    {
     "data": {
      "text/plain": [
       "['chinese',\n",
       " 'english',\n",
       " 'math',\n",
       " 'society',\n",
       " 'science',\n",
       " 'PR',\n",
       " 'H_GPA',\n",
       " 'avg',\n",
       " 'grade_10_A',\n",
       " 'grade_10_B',\n",
       " 'grade_10_C',\n",
       " 'grade_10_D',\n",
       " 'grade_10_E',\n",
       " 'grade_10_F',\n",
       " 'grade_10_G',\n",
       " 'grade_10_H',\n",
       " 'grade_10_J',\n",
       " 'grade_5_A',\n",
       " 'grade_5_B',\n",
       " 'grade_5_C',\n",
       " 'grade_5_D',\n",
       " 'grade_5_F',\n",
       " 'grade_3_A',\n",
       " 'grade_3_B',\n",
       " 'grade_3_F',\n",
       " 'grade_2_A',\n",
       " 'grade_2_F']"
      ]
     },
     "execution_count": 2,
     "metadata": {},
     "output_type": "execute_result"
    }
   ],
   "source": [
    "os.chdir('C:/Users/tku/Desktop/data/finish')\n",
    "filename = 'avg.csv'\n",
    "df = pd.read_csv(filename)\n",
    "df_dum = pd.get_dummies(df)\n",
    "list(df_dum)"
   ]
  },
  {
   "cell_type": "code",
   "execution_count": 3,
   "metadata": {},
   "outputs": [],
   "source": [
    "train_set,  test_set = \\\n",
    "              np.split(df_dum.sample(frac=1, random_state=1), \n",
    "                       [ int(.9*len(df_dum))])"
   ]
  },
  {
   "cell_type": "code",
   "execution_count": 4,
   "metadata": {},
   "outputs": [],
   "source": [
    "X_train = train_set[['chinese', 'english', 'math', 'society', 'science', 'PR', 'H_GPA']]\n",
    "#X_validate = validate_set[['chinese', 'english', 'math', 'society', 'science', 'PR', 'H_GPA']]\n",
    "X_test = test_set[['chinese', 'english', 'math', 'society', 'science', 'PR', 'H_GPA']]\n",
    "\n",
    "Y_train10= train_set[['grade_10_A', 'grade_10_B', 'grade_10_C', 'grade_10_D', 'grade_10_E', 'grade_10_F', 'grade_10_G', 'grade_10_H', 'grade_10_J']]\n",
    "#Y_validate10= validate_set[['grade_10_A', 'grade_10_B', 'grade_10_C', 'grade_10_D', 'grade_10_E', 'grade_10_F', 'grade_10_G', 'grade_10_H', 'grade_10_J']]\n",
    "Y_test10= test_set[['grade_10_A', 'grade_10_B', 'grade_10_C', 'grade_10_D', 'grade_10_E', 'grade_10_F', 'grade_10_G', 'grade_10_H', 'grade_10_J']]\n",
    "\n",
    "Y_train5= train_set[['grade_5_A', 'grade_5_B', 'grade_5_C', 'grade_5_D', 'grade_5_F']]\n",
    "#Y_validate5= validate_set[['grade_5_A', 'grade_5_B', 'grade_5_C', 'grade_5_D', 'grade_5_F']]\n",
    "Y_test5= test_set[['grade_5_A', 'grade_5_B', 'grade_5_C', 'grade_5_D', 'grade_5_F']]\n",
    "\n",
    "Y_train3= train_set[['grade_3_A', 'grade_3_B', 'grade_3_F']]\n",
    "#Y_validate3= validate_set[['grade_3_A', 'grade_3_B', 'grade_3_F']]\n",
    "Y_test3= test_set[['grade_3_A', 'grade_3_B', 'grade_3_F']]\n",
    "\n",
    "Y_train2= train_set[['grade_2_A', 'grade_2_F']]\n",
    "#Y_validate2= validate_set[['grade_2_A', 'grade_2_F']]\n",
    "Y_test2= test_set[['grade_2_A', 'grade_2_F']]"
   ]
  },
  {
   "cell_type": "markdown",
   "metadata": {},
   "source": [
    "# RandomForest"
   ]
  },
  {
   "cell_type": "code",
   "execution_count": 5,
   "metadata": {},
   "outputs": [],
   "source": [
    "n_estimators = 5"
   ]
  },
  {
   "cell_type": "code",
   "execution_count": 6,
   "metadata": {
    "scrolled": true
   },
   "outputs": [
    {
     "name": "stdout",
     "output_type": "stream",
     "text": [
      "  \n",
      "              precision    recall  f1-score   support\n",
      "\n",
      "           A       0.00      0.00      0.00         3\n",
      "           B       0.20      0.20      0.20         5\n",
      "           C       0.17      0.12      0.14         8\n",
      "           D       0.67      0.33      0.44        12\n",
      "           E       0.00      0.00      0.00         1\n",
      "           F       0.00      0.00      0.00         3\n",
      "           G       0.00      0.00      0.00         1\n",
      "           H       0.00      0.00      0.00         0\n",
      "           J       0.00      0.00      0.00         0\n",
      "\n",
      "   micro avg       0.29      0.18      0.22        33\n",
      "   macro avg       0.11      0.07      0.09        33\n",
      "weighted avg       0.31      0.18      0.23        33\n",
      " samples avg       0.18      0.18      0.18        33\n",
      "\n",
      "accuracy_score：18.18%\n"
     ]
    },
    {
     "name": "stderr",
     "output_type": "stream",
     "text": [
      "C:\\ProgramData\\Anaconda3\\lib\\site-packages\\sklearn\\metrics\\_classification.py:1221: UndefinedMetricWarning: Precision and F-score are ill-defined and being set to 0.0 in labels with no predicted samples. Use `zero_division` parameter to control this behavior.\n",
      "  _warn_prf(average, modifier, msg_start, len(result))\n",
      "C:\\ProgramData\\Anaconda3\\lib\\site-packages\\sklearn\\metrics\\_classification.py:1221: UndefinedMetricWarning: Recall and F-score are ill-defined and being set to 0.0 in labels with no true samples. Use `zero_division` parameter to control this behavior.\n",
      "  _warn_prf(average, modifier, msg_start, len(result))\n",
      "C:\\ProgramData\\Anaconda3\\lib\\site-packages\\sklearn\\metrics\\_classification.py:1221: UndefinedMetricWarning: Precision and F-score are ill-defined and being set to 0.0 in samples with no predicted labels. Use `zero_division` parameter to control this behavior.\n",
      "  _warn_prf(average, modifier, msg_start, len(result))\n"
     ]
    }
   ],
   "source": [
    "RF10 = RandomForestClassifier(n_estimators=n_estimators)\n",
    "RF10.fit(X_train,Y_train10)\n",
    "pred10=RF10.predict(X_test)\n",
    "target_names10 = ['A','B','C','D','E','F','G','H','J']\n",
    "score10 = metrics.classification_report(Y_test10,pred10,target_names=target_names10)\n",
    "print(\"  \")\n",
    "print(score10)\n",
    "print(\"accuracy_score：%.2f%%\" % (metrics.accuracy_score(Y_test10,pred10)*100),)"
   ]
  },
  {
   "cell_type": "code",
   "execution_count": 7,
   "metadata": {},
   "outputs": [
    {
     "name": "stdout",
     "output_type": "stream",
     "text": [
      "  \n",
      "              precision    recall  f1-score   support\n",
      "\n",
      "           A       0.00      0.00      0.00         4\n",
      "           B       0.25      0.25      0.25         4\n",
      "           C       0.25      0.12      0.17         8\n",
      "           D       0.33      0.17      0.22        12\n",
      "           F       0.50      0.60      0.55         5\n",
      "\n",
      "   micro avg       0.35      0.21      0.26        33\n",
      "   macro avg       0.27      0.23      0.24        33\n",
      "weighted avg       0.29      0.21      0.23        33\n",
      " samples avg       0.21      0.21      0.21        33\n",
      "\n",
      "accuracy_score：21.21%\n"
     ]
    },
    {
     "name": "stderr",
     "output_type": "stream",
     "text": [
      "C:\\ProgramData\\Anaconda3\\lib\\site-packages\\sklearn\\metrics\\_classification.py:1221: UndefinedMetricWarning: Precision and F-score are ill-defined and being set to 0.0 in labels with no predicted samples. Use `zero_division` parameter to control this behavior.\n",
      "  _warn_prf(average, modifier, msg_start, len(result))\n",
      "C:\\ProgramData\\Anaconda3\\lib\\site-packages\\sklearn\\metrics\\_classification.py:1221: UndefinedMetricWarning: Precision and F-score are ill-defined and being set to 0.0 in samples with no predicted labels. Use `zero_division` parameter to control this behavior.\n",
      "  _warn_prf(average, modifier, msg_start, len(result))\n"
     ]
    }
   ],
   "source": [
    "RF5 = RandomForestClassifier(n_estimators=n_estimators)\n",
    "RF5.fit(X_train,Y_train5)\n",
    "pred5=RF5.predict(X_test)\n",
    "target_names5 = ['A','B','C','D','F']\n",
    "score5 = metrics.classification_report(Y_test5,pred5,target_names=target_names5)\n",
    "print(\"  \")\n",
    "print(score5)\n",
    "print(\"accuracy_score：%.2f%%\" % (metrics.accuracy_score(Y_test5,pred5)*100),)"
   ]
  },
  {
   "cell_type": "code",
   "execution_count": 8,
   "metadata": {},
   "outputs": [
    {
     "name": "stdout",
     "output_type": "stream",
     "text": [
      "  \n",
      "              precision    recall  f1-score   support\n",
      "\n",
      "           A       0.67      0.50      0.57         8\n",
      "           B       0.79      0.55      0.65        20\n",
      "           F       0.57      0.80      0.67         5\n",
      "\n",
      "   micro avg       0.70      0.58      0.63        33\n",
      "   macro avg       0.67      0.62      0.63        33\n",
      "weighted avg       0.72      0.58      0.63        33\n",
      " samples avg       0.58      0.58      0.58        33\n",
      "\n",
      "accuracy_score：57.58%\n"
     ]
    },
    {
     "name": "stderr",
     "output_type": "stream",
     "text": [
      "C:\\ProgramData\\Anaconda3\\lib\\site-packages\\sklearn\\metrics\\_classification.py:1221: UndefinedMetricWarning: Precision and F-score are ill-defined and being set to 0.0 in samples with no predicted labels. Use `zero_division` parameter to control this behavior.\n",
      "  _warn_prf(average, modifier, msg_start, len(result))\n"
     ]
    }
   ],
   "source": [
    "RF3= RandomForestClassifier(n_estimators=n_estimators)\n",
    "RF3.fit(X_train,Y_train3)\n",
    "pred3=RF3.predict(X_test)\n",
    "target_names3 = ['A','B','F']\n",
    "score3 = metrics.classification_report(Y_test3,pred3,target_names=target_names3)\n",
    "print(\"  \")\n",
    "print(score3)\n",
    "print(\"accuracy_score：%.2f%%\" % (metrics.accuracy_score(Y_test3,pred3)*100),)"
   ]
  },
  {
   "cell_type": "code",
   "execution_count": 9,
   "metadata": {
    "scrolled": false
   },
   "outputs": [
    {
     "name": "stdout",
     "output_type": "stream",
     "text": [
      "  \n",
      "              precision    recall  f1-score   support\n",
      "\n",
      "           A       0.96      0.86      0.91        28\n",
      "           F       0.50      0.80      0.62         5\n",
      "\n",
      "   micro avg       0.85      0.85      0.85        33\n",
      "   macro avg       0.73      0.83      0.76        33\n",
      "weighted avg       0.89      0.85      0.86        33\n",
      " samples avg       0.85      0.85      0.85        33\n",
      "\n",
      "accuracy_score：84.85%\n"
     ]
    }
   ],
   "source": [
    "RF2= RandomForestClassifier(n_estimators=n_estimators)\n",
    "RF2.fit(X_train,Y_train2)\n",
    "pred2=RF2.predict(X_test)\n",
    "target_names2 = ['A','F']\n",
    "score2 = metrics.classification_report(Y_test2,pred2,target_names=target_names2)\n",
    "print(\"  \")\n",
    "print(score2)\n",
    "print(\"accuracy_score：%.2f%%\" % (metrics.accuracy_score(Y_test2,pred2)*100),)"
   ]
  },
  {
   "cell_type": "code",
   "execution_count": 10,
   "metadata": {},
   "outputs": [],
   "source": [
    "Y_pred10c = pred10\n",
    "Y_test10c = Y_test10.to_numpy()\n",
    "Y_pred5c = pred5\n",
    "Y_test5c = Y_test5.to_numpy()"
   ]
  },
  {
   "cell_type": "code",
   "execution_count": 11,
   "metadata": {
    "scrolled": true
   },
   "outputs": [
    {
     "name": "stdout",
     "output_type": "stream",
     "text": [
      "oneAway accurency of 10class =63.64%\n",
      "oneAway accurency of 5class =45.45%\n"
     ]
    }
   ],
   "source": [
    "oneAway10 =1\n",
    "            \n",
    "for i in range(Y_pred10c.shape[0]):\n",
    "    for j in range(Y_pred10c.shape[1]):\n",
    "        if Y_test10c[i,j] == 1:\n",
    "            if j == 0:\n",
    "                if Y_pred10c[i,j] == 1 or Y_pred10c[i,j+1] == 1:\n",
    "                    oneAway10 = oneAway10 +1\n",
    "            elif j == Y_pred10c.shape[1]-1:\n",
    "                if Y_pred10c[i,j-1] == 1 or Y_pred10c[i,j] == 1:\n",
    "                    oneAway10 = oneAway10 +1\n",
    "            else:\n",
    "                if Y_pred10c[i,j-1] == 1 or Y_pred10c[i,j] or Y_pred10c[i,j+1] == 1:\n",
    "                    oneAway10 = oneAway10 +1\n",
    "            break\n",
    "print(\"oneAway accurency of 10class =%.2f%%\" % (oneAway10/Y_pred10c.shape[0]*100))\n",
    "\n",
    "oneAway5 =1\n",
    "            \n",
    "for i in range(Y_pred5c.shape[0]):\n",
    "    for j in range(Y_pred5c.shape[1]):\n",
    "        if Y_test5c[i,j] == 1:\n",
    "            if j == 0:\n",
    "                if Y_pred5c[i,j] == 1 or Y_pred5c[i,j+1] == 1:\n",
    "                    oneAway5 = oneAway5 +1\n",
    "            elif j == 3:\n",
    "                if Y_pred5c[i,j-1] == 1 or Y_pred5c[i,j] == 1:\n",
    "                    oneAway5 = oneAway5 +1\n",
    "            elif j == 4:\n",
    "                if Y_pred5c[i,j] == 1:\n",
    "                    oneAway5 = oneAway5 +1\n",
    "            else:\n",
    "                if Y_pred5c[i,j-1] == 1 or Y_pred5c[i,j] or Y_pred5c[i,j+1] == 1:\n",
    "                    oneAway5 = oneAway5 +1\n",
    "            break\n",
    "print(\"oneAway accurency of 5class =%.2f%%\" % (oneAway5/Y_pred5c.shape[0]*100))"
   ]
  },
  {
   "cell_type": "code",
   "execution_count": 12,
   "metadata": {},
   "outputs": [],
   "source": [
    "from tempfile import NamedTemporaryFile\n",
    "import shutil\n",
    "import csv\n",
    "\n",
    "\n",
    "fields = ['avg','c10_accur','c10_oneAway','c5_accur','c5_oneAway','c3_accur','c2_accur']\n",
    "writelist = [\"RF\",\"avg\",\n",
    "             \"%.2f%%\" % (metrics.accuracy_score(Y_test10,pred10)*100),\"%.2f%%\" % (oneAway10/Y_pred10c.shape[0]*100),\n",
    "             \"%.2f%%\" % (metrics.accuracy_score(Y_test5,pred5)*100),\"%.2f%%\" % (oneAway5/Y_pred5c.shape[0]*100),\n",
    "             \"%.2f%%\" % (metrics.accuracy_score(Y_test3,pred3)*100),\"%.2f%%\" % (metrics.accuracy_score(Y_test2,pred2)*100)]\n",
    "\n",
    "with open('result.csv', 'a', newline='') as csvfile:\n",
    "    writer = csv.writer(csvfile)\n",
    "    writer.writerow(writelist)\n",
    "    csvfile.close()"
   ]
  },
  {
   "cell_type": "code",
   "execution_count": 13,
   "metadata": {
    "scrolled": true
   },
   "outputs": [
    {
     "name": "stdout",
     "output_type": "stream",
     "text": [
      " 1) H_GPA                          0.321152\n",
      " 2) PR                             0.126003\n",
      " 3) science                        0.118958\n",
      " 4) society                        0.116188\n",
      " 5) english                        0.114483\n",
      " 6) chinese                        0.109599\n",
      " 7) math                           0.093618\n"
     ]
    },
    {
     "data": {
      "image/png": "[encoded data removed]",
      "text/plain": [
       "<Figure size 432x288 with 1 Axes>"
      ]
     },
     "metadata": {
      "needs_background": "light"
     },
     "output_type": "display_data"
    }
   ],
   "source": [
    "imp10 = RF10.feature_importances_\n",
    "imp5 = RF10.feature_importances_\n",
    "imp3 = RF10.feature_importances_\n",
    "imp2 = RF10.feature_importances_\n",
    "imp = []\n",
    "\n",
    "for f in range(X_train.shape[1]):\n",
    "    imp.append((imp10[f] + imp5[f] + imp3[f] + imp2[f])/4)\n",
    "    \n",
    "indices = np.argsort(imp)[::-1]\n",
    "\n",
    "feat_labels = df.columns[0:7]\n",
    "\n",
    "for f in range(X_train.shape[1]):\n",
    "    print(\"%2d) %-*s %f\" % (f + 1, 30, \n",
    "                            feat_labels[indices[f]], \n",
    "                            imp[indices[f]]))\n",
    "\n",
    "plt.title('Feature Importance (Average)')\n",
    "plt.bar(range(X_train.shape[1]), \n",
    "        np.array(imp)[indices],\n",
    "        align='center')\n",
    "\n",
    "plt.xticks(range(X_train.shape[1]), \n",
    "           feat_labels[indices], rotation=90)\n",
    "plt.xlim([-1, X_train.shape[1]])\n",
    "plt.tight_layout()\n",
    "\n",
    "plt.show()"
   ]
  },
  {
   "cell_type": "code",
   "execution_count": 20,
   "metadata": {},
   "outputs": [],
   "source": [
    "writelist = [\"avg\",\n",
    "            int(round(imp[0]*100)),int(round(imp[1]*100)),int(round(imp[2]*100)),\n",
    "            int(round(imp[3]*100)),int(round(imp[4]*100)),int(round(imp[5]*100)),\n",
    "            int(round(imp[6]*100))]\n",
    "with open('result_FI.csv', 'a', newline='') as csvfile:\n",
    "    writer = csv.writer(csvfile)\n",
    "    writer.writerow(writelist)\n",
    "    csvfile.close()"
   ]
  },
  {
   "cell_type": "code",
   "execution_count": null,
   "metadata": {},
   "outputs": [],
   "source": []
  }
 ],
 "metadata": {
  "kernelspec": {
   "display_name": "Python 3",
   "language": "python",
   "name": "python3"
  },
  "language_info": {
   "codemirror_mode": {
    "name": "ipython",
    "version": 3
   },
   "file_extension": ".py",
   "mimetype": "text/x-python",
   "name": "python",
   "nbconvert_exporter": "python",
   "pygments_lexer": "ipython3",
   "version": "3.8.5"
  }
 },
 "nbformat": 4,
 "nbformat_minor": 4
}

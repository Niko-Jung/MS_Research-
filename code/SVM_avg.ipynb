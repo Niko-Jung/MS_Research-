{
 "cells": [
  {
   "cell_type": "code",
   "execution_count": 1,
   "metadata": {},
   "outputs": [],
   "source": [
    "import os\n",
    "import numpy as np\n",
    "import pandas as pd\n",
    "import sklearn\n",
    "from sklearn import multioutput\n",
    "from sklearn import multiclass\n",
    "from sklearn import metrics\n",
    "from sklearn import svm"
   ]
  },
  {
   "cell_type": "code",
   "execution_count": 2,
   "metadata": {
    "scrolled": true
   },
   "outputs": [
    {
     "data": {
      "text/plain": [
       "['chinese',\n",
       " 'english',\n",
       " 'math',\n",
       " 'society',\n",
       " 'science',\n",
       " 'PR',\n",
       " 'H_GPA',\n",
       " 'avg',\n",
       " 'grade_10_A',\n",
       " 'grade_10_B',\n",
       " 'grade_10_C',\n",
       " 'grade_10_D',\n",
       " 'grade_10_E',\n",
       " 'grade_10_F',\n",
       " 'grade_10_G',\n",
       " 'grade_10_H',\n",
       " 'grade_10_J',\n",
       " 'grade_5_A',\n",
       " 'grade_5_B',\n",
       " 'grade_5_C',\n",
       " 'grade_5_D',\n",
       " 'grade_5_F',\n",
       " 'grade_3_A',\n",
       " 'grade_3_B',\n",
       " 'grade_3_F',\n",
       " 'grade_2_A',\n",
       " 'grade_2_F']"
      ]
     },
     "execution_count": 2,
     "metadata": {},
     "output_type": "execute_result"
    }
   ],
   "source": [
    "os.chdir('C:/Users/tku/Desktop/data/finish')\n",
    "filename = 'avg.csv'\n",
    "df = pd.read_csv(filename)\n",
    "df_dum = pd.get_dummies(df)\n",
    "list(df_dum)"
   ]
  },
  {
   "cell_type": "code",
   "execution_count": 17,
   "metadata": {},
   "outputs": [],
   "source": [
    "train_set,  test_set = \\\n",
    "              np.split(df_dum.sample(frac=1, random_state=1), \n",
    "                       [int(.9*len(df_dum))])"
   ]
  },
  {
   "cell_type": "code",
   "execution_count": 18,
   "metadata": {},
   "outputs": [],
   "source": [
    "X_train = train_set[['chinese', 'english', 'math', 'society', 'science', 'PR', 'H_GPA']]\n",
    "#X_validate = validate_set[['chinese', 'english', 'math', 'society', 'science', 'PR', 'H_GPA']]\n",
    "X_test = test_set[['chinese', 'english', 'math', 'society', 'science', 'PR', 'H_GPA']]\n",
    "\n",
    "Y_train10= train_set[['grade_10_A', 'grade_10_B', 'grade_10_C', 'grade_10_D', 'grade_10_E', 'grade_10_F', 'grade_10_G', 'grade_10_H', 'grade_10_J']]\n",
    "#Y_validate10= validate_set[['grade_10_A', 'grade_10_B', 'grade_10_C', 'grade_10_D', 'grade_10_E', 'grade_10_F', 'grade_10_G', 'grade_10_H', 'grade_10_J']]\n",
    "Y_test10= test_set[['grade_10_A', 'grade_10_B', 'grade_10_C', 'grade_10_D', 'grade_10_E', 'grade_10_F', 'grade_10_G', 'grade_10_H', 'grade_10_J']]\n",
    "\n",
    "Y_train5= train_set[['grade_5_A', 'grade_5_B', 'grade_5_C', 'grade_5_D', 'grade_5_F']]\n",
    "#Y_validate5= validate_set[['grade_5_A', 'grade_5_B', 'grade_5_C', 'grade_5_D', 'grade_5_F']]\n",
    "Y_test5= test_set[['grade_5_A', 'grade_5_B', 'grade_5_C', 'grade_5_D', 'grade_5_F']]\n",
    "\n",
    "Y_train3= train_set[['grade_3_A', 'grade_3_B', 'grade_3_F']]\n",
    "#Y_validate3= validate_set[['grade_3_A', 'grade_3_B', 'grade_3_F']]\n",
    "Y_test3= test_set[['grade_3_A', 'grade_3_B', 'grade_3_F']]\n",
    "\n",
    "Y_train2= train_set[['grade_2_A', 'grade_2_F']]\n",
    "#Y_validate2= validate_set[['grade_2_A', 'grade_2_F']]\n",
    "Y_test2= test_set[['grade_2_A', 'grade_2_F']]"
   ]
  },
  {
   "cell_type": "markdown",
   "metadata": {},
   "source": [
    "\n",
    "# SVM"
   ]
  },
  {
   "cell_type": "code",
   "execution_count": 5,
   "metadata": {},
   "outputs": [],
   "source": [
    "#kernel = 'linear'\n",
    "kernel = 'poly'\n",
    "#kernel = 'rbf'\n",
    "#kernel = 'sigmoid'\n",
    "shape = 'ovr'\n",
    "degree = 3\n",
    "C=1"
   ]
  },
  {
   "cell_type": "code",
   "execution_count": 6,
   "metadata": {},
   "outputs": [
    {
     "name": "stdout",
     "output_type": "stream",
     "text": [
      "in ovr\n"
     ]
    }
   ],
   "source": [
    "if kernel == 'poly':\n",
    "    clf10 = svm.SVC(kernel=kernel,C=C,decision_function_shape=shape,degree=degree)\n",
    "    clf5 = svm.SVC(kernel=kernel,C=C,decision_function_shape=shape,degree=degree)\n",
    "    clf3 = svm.SVC(kernel=kernel,C=C,decision_function_shape=shape,degree=degree)\n",
    "    clf2 = svm.SVC(kernel=kernel,C=C,decision_function_shape=shape,degree=degree)\n",
    "else:\n",
    "    clf10 = svm.SVC(kernel=kernel,C=C,decision_function_shape=shape)\n",
    "    clf5 = svm.SVC(kernel=kernel,C=C,decision_function_shape=shape)\n",
    "    clf3 = svm.SVC(kernel=kernel,C=C,decision_function_shape=shape)\n",
    "    clf2 = svm.SVC(kernel=kernel,C=C,decision_function_shape=shape)\n",
    "if shape == 'ovo':\n",
    "    print(\"in ovo\")\n",
    "    clfm10 = multiclass.OneVsOneClassifier(clf10)\n",
    "    clfm5 = multiclass.OneVsOneClassifier(clf5)\n",
    "    clfm3 = multiclass.OneVsOneClassifier(clf3)\n",
    "    clfm2 = multiclass.OneVsOneClassifier(clf2)\n",
    "else:\n",
    "    print(\"in ovr\")\n",
    "    clfm10 = multiclass.OneVsRestClassifier(clf10)\n",
    "    clfm5 = multiclass.OneVsRestClassifier(clf5)\n",
    "    clfm3 = multiclass.OneVsRestClassifier(clf3)\n",
    "    clfm2 = multiclass.OneVsRestClassifier(clf2)\n",
    "tclfm10 = multioutput.MultiOutputClassifier(clfm10)\n",
    "tclfm5 = multioutput.MultiOutputClassifier(clfm5)\n",
    "tclfm3 = multioutput.MultiOutputClassifier(clfm3)\n",
    "tclfm2= multioutput.MultiOutputClassifier(clfm2)"
   ]
  },
  {
   "cell_type": "code",
   "execution_count": 7,
   "metadata": {
    "scrolled": true
   },
   "outputs": [
    {
     "data": {
      "text/plain": [
       "MultiOutputClassifier(estimator=OneVsRestClassifier(estimator=SVC(C=1,\n",
       "                                                                  kernel='poly')))"
      ]
     },
     "execution_count": 7,
     "metadata": {},
     "output_type": "execute_result"
    }
   ],
   "source": [
    "tclfm10.fit(X_train, Y_train10)\n",
    "tclfm5.fit(X_train, Y_train5)\n",
    "tclfm3.fit(X_train, Y_train3)\n",
    "tclfm2.fit(X_train, Y_train2)"
   ]
  },
  {
   "cell_type": "code",
   "execution_count": 8,
   "metadata": {
    "scrolled": true
   },
   "outputs": [],
   "source": [
    "pred10= tclfm10.predict(X_test)\n",
    "pred5= tclfm5.predict(X_test)\n",
    "pred3= tclfm3.predict(X_test)\n",
    "pred2= tclfm2.predict(X_test)\n",
    "score10 = metrics.accuracy_score(Y_test10,pred10)*100\n",
    "score5 = metrics.accuracy_score(Y_test5,pred5)*100\n",
    "score3 = metrics.accuracy_score(Y_test3,pred3)*100\n",
    "score2 = metrics.accuracy_score(Y_test2,pred2)*100"
   ]
  },
  {
   "cell_type": "code",
   "execution_count": 9,
   "metadata": {},
   "outputs": [
    {
     "name": "stdout",
     "output_type": "stream",
     "text": [
      "0.0 6.0606060606060606 63.63636363636363 90.9090909090909\n"
     ]
    }
   ],
   "source": [
    "print(score10,score5,score3,score2)"
   ]
  },
  {
   "cell_type": "code",
   "execution_count": 10,
   "metadata": {},
   "outputs": [],
   "source": [
    "Y_pred10c = pred10\n",
    "Y_test10c = Y_test10.to_numpy()\n",
    "Y_pred5c = pred5\n",
    "Y_test5c = Y_test5.to_numpy()"
   ]
  },
  {
   "cell_type": "code",
   "execution_count": 11,
   "metadata": {},
   "outputs": [
    {
     "name": "stdout",
     "output_type": "stream",
     "text": [
      "oneAway accurency of 10class =3.03%\n",
      "oneAway accurency of 5class =9.09%\n"
     ]
    }
   ],
   "source": [
    "oneAway10 =1\n",
    "            \n",
    "for i in range(Y_pred10c.shape[0]):\n",
    "    for j in range(Y_pred10c.shape[1]):\n",
    "        if Y_test10c[i,j] == 1:\n",
    "            if j == 0:\n",
    "                if Y_pred10c[i,j] == 1 or Y_pred10c[i,j+1] == 1:\n",
    "                    oneAway10 = oneAway10 +1\n",
    "            elif j == Y_pred10c.shape[1]-1:\n",
    "                if Y_pred10c[i,j-1] == 1 or Y_pred10c[i,j] == 1:\n",
    "                    oneAway10 = oneAway10 +1\n",
    "            else:\n",
    "                if Y_pred10c[i,j-1] == 1 or Y_pred10c[i,j] or Y_pred10c[i,j+1] == 1:\n",
    "                    oneAway10 = oneAway10 +1\n",
    "            break\n",
    "print(\"oneAway accurency of 10class =%.2f%%\" % (oneAway10/Y_pred10c.shape[0]*100))\n",
    "\n",
    "oneAway5 =1\n",
    "            \n",
    "for i in range(Y_pred5c.shape[0]):\n",
    "    for j in range(Y_pred5c.shape[1]):\n",
    "        if Y_test5c[i,j] == 1:\n",
    "            if j == 0:\n",
    "                if Y_pred5c[i,j] == 1 or Y_pred5c[i,j+1] == 1:\n",
    "                    oneAway5 = oneAway5 +1\n",
    "            elif j == 3:\n",
    "                if Y_pred5c[i,j-1] == 1 or Y_pred5c[i,j] == 1:\n",
    "                    oneAway5 = oneAway5 +1\n",
    "            elif j == 4:\n",
    "                if Y_pred5c[i,j] == 1:\n",
    "                    oneAway5 = oneAway5 +1\n",
    "            else:\n",
    "                if Y_pred5c[i,j-1] == 1 or Y_pred5c[i,j] or Y_pred5c[i,j+1] == 1:\n",
    "                    oneAway5 = oneAway5 +1\n",
    "            break\n",
    "print(\"oneAway accurency of 5class =%.2f%%\" % (oneAway5/Y_pred5c.shape[0]*100))"
   ]
  },
  {
   "cell_type": "code",
   "execution_count": 12,
   "metadata": {},
   "outputs": [],
   "source": [
    "from tempfile import NamedTemporaryFile\n",
    "import shutil\n",
    "import csv\n",
    "\n",
    "\n",
    "fields = ['avg','c10_accur','c10_oneAway','c5_accur','c5_oneAway','c3_accur','c2_accur']\n",
    "writelist = [\"SVM\",\"avg\",\n",
    "             \"%.2f%%\" % (metrics.accuracy_score(Y_test10,pred10)*100),\"%.2f%%\" % (oneAway10/Y_pred10c.shape[0]*100),\n",
    "             \"%.2f%%\" % (metrics.accuracy_score(Y_test5,pred5)*100),\"%.2f%%\" % (oneAway5/Y_pred5c.shape[0]*100),\n",
    "             \"%.2f%%\" % (metrics.accuracy_score(Y_test3,pred3)*100),\"%.2f%%\" % (metrics.accuracy_score(Y_test2,pred2)*100)]\n",
    "\n",
    "with open('result.csv', 'a', newline='') as csvfile:\n",
    "    writer = csv.writer(csvfile)\n",
    "    writer.writerow(writelist)\n",
    "    csvfile.close()"
   ]
  }
 ],
 "metadata": {
  "kernelspec": {
   "display_name": "Python 3",
   "language": "python",
   "name": "python3"
  },
  "language_info": {
   "codemirror_mode": {
    "name": "ipython",
    "version": 3
   },
   "file_extension": ".py",
   "mimetype": "text/x-python",
   "name": "python",
   "nbconvert_exporter": "python",
   "pygments_lexer": "ipython3",
   "version": "3.8.5"
  }
 },
 "nbformat": 4,
 "nbformat_minor": 4
}

{
 "cells": [
  {
   "cell_type": "code",
   "execution_count": 1,
   "metadata": {},
   "outputs": [],
   "source": [
    "# Load Packages\n",
    "import os\n",
    "import numpy as np\n",
    "import matplotlib.pyplot as plt\n",
    "import pandas as pd\n",
    "import tensorflow as tf\n",
    "from tensorflow.python.keras.models import Sequential\n",
    "from tensorflow.python.keras.layers import Dense\n",
    "from tensorflow.python.keras.layers import Dropout\n",
    "from tensorflow.python.keras.regularizers import l2\n",
    "from tensorflow.python.keras import optimizers\n",
    "from tensorflow.python.keras.utils import np_utils\n",
    "from tensorflow import estimator\n",
    "from sklearn.model_selection import train_test_split\n",
    "from sklearn import preprocessing\n",
    "from sklearn.metrics import accuracy_score, hamming_loss\n",
    "from sklearn.model_selection import cross_val_score\n",
    "from sklearn.model_selection import KFold\n",
    "from sklearn.preprocessing import LabelEncoder\n",
    "from sklearn.preprocessing import OneHotEncoder\n",
    "from sklearn.pipeline import Pipeline\n",
    "from sklearn import metrics"
   ]
  },
  {
   "cell_type": "markdown",
   "metadata": {},
   "source": [
    "# Dataset"
   ]
  },
  {
   "cell_type": "markdown",
   "metadata": {},
   "source": [
    "## 1. load dataset"
   ]
  },
  {
   "cell_type": "code",
   "execution_count": 2,
   "metadata": {
    "scrolled": true
   },
   "outputs": [
    {
     "data": {
      "text/plain": [
       "['chinese',\n",
       " 'english',\n",
       " 'math',\n",
       " 'society',\n",
       " 'science',\n",
       " 'PR',\n",
       " 'H_GPA',\n",
       " 'PG',\n",
       " 'PG_10_A',\n",
       " 'PG_10_B',\n",
       " 'PG_10_C',\n",
       " 'PG_10_D',\n",
       " 'PG_10_E',\n",
       " 'PG_10_F',\n",
       " 'PG_10_G',\n",
       " 'PG_10_H',\n",
       " 'PG_10_I',\n",
       " 'PG_10_J',\n",
       " 'PG_5_A',\n",
       " 'PG_5_B',\n",
       " 'PG_5_C',\n",
       " 'PG_5_D',\n",
       " 'PG_5_F',\n",
       " 'PG_3_A',\n",
       " 'PG_3_B',\n",
       " 'PG_3_F',\n",
       " 'PG_2_A',\n",
       " 'PG_2_F']"
      ]
     },
     "execution_count": 2,
     "metadata": {},
     "output_type": "execute_result"
    }
   ],
   "source": [
    "os.chdir('C:/Users/tku/Desktop/data/finish')\n",
    "filename = 'pg.csv'\n",
    "df = pd.read_csv(filename)\n",
    "df_dum = pd.get_dummies(df)\n",
    "list(df_dum)"
   ]
  },
  {
   "cell_type": "markdown",
   "metadata": {},
   "source": [
    "## 3. Split the data up in train and test sets"
   ]
  },
  {
   "cell_type": "code",
   "execution_count": 3,
   "metadata": {},
   "outputs": [],
   "source": [
    "#X_train, X_test, Y_train10, Y_test10, Y_train5, Y_test5, Y_train3, Y_test3, Y_train2, Y_test2=train_test_split(X,Y10,Y5,Y3,Y2, test_size=0.10, random_state=1)\n",
    "train_set, validate_set, test_set = \\\n",
    "              np.split(df_dum.sample(frac=1, random_state=1), \n",
    "                       [int(.8*len(df_dum)), int(.9*len(df_dum))])"
   ]
  },
  {
   "cell_type": "markdown",
   "metadata": {},
   "source": [
    "## 2. Specify the target labels and flatten the array "
   ]
  },
  {
   "cell_type": "code",
   "execution_count": 4,
   "metadata": {
    "scrolled": true
   },
   "outputs": [],
   "source": [
    "X_train = train_set[['chinese', 'english', 'math', 'society', 'science', 'PR', 'H_GPA']]\n",
    "X_validate = validate_set[['chinese', 'english', 'math', 'society', 'science', 'PR', 'H_GPA']]\n",
    "X_test = test_set[['chinese', 'english', 'math', 'society', 'science', 'PR', 'H_GPA']]\n",
    "\n",
    "Y_train10= train_set[['PG_10_A', 'PG_10_B', 'PG_10_C', 'PG_10_D', 'PG_10_E', 'PG_10_F', 'PG_10_G', 'PG_10_H', 'PG_10_I', 'PG_10_J']]\n",
    "Y_validate10= validate_set[['PG_10_A', 'PG_10_B', 'PG_10_C', 'PG_10_D', 'PG_10_E', 'PG_10_F', 'PG_10_G', 'PG_10_H', 'PG_10_I','PG_10_J']]\n",
    "Y_test10= test_set[['PG_10_A', 'PG_10_B', 'PG_10_C', 'PG_10_D', 'PG_10_E', 'PG_10_F', 'PG_10_G', 'PG_10_H', 'PG_10_I','PG_10_J']]\n",
    "\n",
    "Y_train5= train_set[['PG_5_A', 'PG_5_B', 'PG_5_C', 'PG_5_D', 'PG_5_F']]\n",
    "Y_validate5= validate_set[['PG_5_A', 'PG_5_B', 'PG_5_C', 'PG_5_D', 'PG_5_F']]\n",
    "Y_test5= test_set[['PG_5_A', 'PG_5_B', 'PG_5_C', 'PG_5_D', 'PG_5_F']]\n",
    "\n",
    "Y_train3= train_set[['PG_3_A', 'PG_3_B', 'PG_3_F']]\n",
    "Y_validate3= validate_set[['PG_3_A', 'PG_3_B', 'PG_3_F']]\n",
    "Y_test3= test_set[['PG_3_A', 'PG_3_B', 'PG_3_F']]\n",
    "\n",
    "Y_train2= train_set[['PG_2_A', 'PG_2_F']]\n",
    "Y_validate2= validate_set[['PG_2_A', 'PG_2_F']]\n",
    "Y_test2= test_set[['PG_2_A', 'PG_2_F']]"
   ]
  },
  {
   "cell_type": "code",
   "execution_count": 5,
   "metadata": {},
   "outputs": [
    {
     "name": "stdout",
     "output_type": "stream",
     "text": [
      "(261, 10)\n",
      "(33, 10)\n",
      "(33, 10)\n"
     ]
    }
   ],
   "source": [
    "print(Y_train10.shape)\n",
    "print(Y_validate10.shape)\n",
    "print(Y_test10.shape)"
   ]
  },
  {
   "cell_type": "markdown",
   "metadata": {},
   "source": [
    "# DNN"
   ]
  },
  {
   "cell_type": "markdown",
   "metadata": {},
   "source": [
    "## 1. Initialize the DNN constructor"
   ]
  },
  {
   "cell_type": "code",
   "execution_count": 6,
   "metadata": {},
   "outputs": [],
   "source": [
    "# define vars\n",
    "input_num_units = 7\n",
    "output_num_units10 = 10\n",
    "output_num_units5 = 5\n",
    "output_num_units3 = 3\n",
    "output_num_units2 = 2\n",
    "\n",
    "layers = 3\n",
    "hiddenadd_num_units = 10\n",
    "batch_size = 10\n",
    "epochs = 5"
   ]
  },
  {
   "cell_type": "markdown",
   "metadata": {},
   "source": [
    "## 2. Define model"
   ]
  },
  {
   "cell_type": "code",
   "execution_count": 7,
   "metadata": {},
   "outputs": [],
   "source": [
    "model10=tf.keras.Sequential()\n",
    "model10.add(Dense(hiddenadd_num_units, input_shape=(7,), kernel_regularizer=l2(0.00001), activation='relu'))\n",
    "model10.add(Dropout(0.4))\n",
    "model5=tf.keras.Sequential()\n",
    "model5.add(Dense(hiddenadd_num_units, input_shape=(7,), kernel_regularizer=l2(0.00001), activation='relu'))\n",
    "model5.add(Dropout(0.4))\n",
    "model3=tf.keras.Sequential()\n",
    "model3.add(Dense(hiddenadd_num_units, input_shape=(7,), kernel_regularizer=l2(0.00001), activation='relu'))\n",
    "model3.add(Dropout(0.4))\n",
    "model2=tf.keras.Sequential()\n",
    "model2.add(Dense(hiddenadd_num_units, input_shape=(7,), kernel_regularizer=l2(0.00001), activation='relu'))\n",
    "model2.add(Dropout(0.4))\n",
    "for i in range(layers-2):\n",
    "    model10.add(Dense(hiddenadd_num_units, kernel_regularizer=l2(0.00001),  activation='relu'))\n",
    "    model10.add(Dropout(0.4))\n",
    "    model5.add(Dense(hiddenadd_num_units, kernel_regularizer=l2(0.00001),  activation='relu'))\n",
    "    model5.add(Dropout(0.4))\n",
    "    model3.add(Dense(hiddenadd_num_units, kernel_regularizer=l2(0.00001),  activation='relu'))\n",
    "    model3.add(Dropout(0.4))\n",
    "    model2.add(Dense(hiddenadd_num_units, kernel_regularizer=l2(0.00001),  activation='relu'))\n",
    "    model2.add(Dropout(0.4))\n",
    "model10.add(Dense(output_num_units10, kernel_regularizer=l2(0.00001), activation='softmax'))\n",
    "model5.add(Dense(output_num_units5, kernel_regularizer=l2(0.00001), activation='softmax'))\n",
    "model3.add(Dense(output_num_units3, kernel_regularizer=l2(0.00001), activation='softmax'))\n",
    "model2.add(Dense(output_num_units2, kernel_regularizer=l2(0.00001), activation='softmax'))"
   ]
  },
  {
   "cell_type": "code",
   "execution_count": 8,
   "metadata": {},
   "outputs": [
    {
     "name": "stdout",
     "output_type": "stream",
     "text": [
      "                                               \n",
      "Model: \"sequential\"\n",
      "_________________________________________________________________\n",
      "Layer (type)                 Output Shape              Param #   \n",
      "=================================================================\n",
      "dense (Dense)                (None, 10)                80        \n",
      "_________________________________________________________________\n",
      "dropout (Dropout)            (None, 10)                0         \n",
      "_________________________________________________________________\n",
      "dense_4 (Dense)              (None, 10)                110       \n",
      "_________________________________________________________________\n",
      "dropout_4 (Dropout)          (None, 10)                0         \n",
      "_________________________________________________________________\n",
      "dense_8 (Dense)              (None, 10)                110       \n",
      "=================================================================\n",
      "Total params: 300\n",
      "Trainable params: 300\n",
      "Non-trainable params: 0\n",
      "_________________________________________________________________\n",
      "                                               \n",
      "Model: \"sequential_1\"\n",
      "_________________________________________________________________\n",
      "Layer (type)                 Output Shape              Param #   \n",
      "=================================================================\n",
      "dense_1 (Dense)              (None, 10)                80        \n",
      "_________________________________________________________________\n",
      "dropout_1 (Dropout)          (None, 10)                0         \n",
      "_________________________________________________________________\n",
      "dense_5 (Dense)              (None, 10)                110       \n",
      "_________________________________________________________________\n",
      "dropout_5 (Dropout)          (None, 10)                0         \n",
      "_________________________________________________________________\n",
      "dense_9 (Dense)              (None, 5)                 55        \n",
      "=================================================================\n",
      "Total params: 245\n",
      "Trainable params: 245\n",
      "Non-trainable params: 0\n",
      "_________________________________________________________________\n",
      "                                               \n",
      "Model: \"sequential_2\"\n",
      "_________________________________________________________________\n",
      "Layer (type)                 Output Shape              Param #   \n",
      "=================================================================\n",
      "dense_2 (Dense)              (None, 10)                80        \n",
      "_________________________________________________________________\n",
      "dropout_2 (Dropout)          (None, 10)                0         \n",
      "_________________________________________________________________\n",
      "dense_6 (Dense)              (None, 10)                110       \n",
      "_________________________________________________________________\n",
      "dropout_6 (Dropout)          (None, 10)                0         \n",
      "_________________________________________________________________\n",
      "dense_10 (Dense)             (None, 3)                 33        \n",
      "=================================================================\n",
      "Total params: 223\n",
      "Trainable params: 223\n",
      "Non-trainable params: 0\n",
      "_________________________________________________________________\n",
      "                                               \n",
      "Model: \"sequential_3\"\n",
      "_________________________________________________________________\n",
      "Layer (type)                 Output Shape              Param #   \n",
      "=================================================================\n",
      "dense_3 (Dense)              (None, 10)                80        \n",
      "_________________________________________________________________\n",
      "dropout_3 (Dropout)          (None, 10)                0         \n",
      "_________________________________________________________________\n",
      "dense_7 (Dense)              (None, 10)                110       \n",
      "_________________________________________________________________\n",
      "dropout_7 (Dropout)          (None, 10)                0         \n",
      "_________________________________________________________________\n",
      "dense_11 (Dense)             (None, 2)                 22        \n",
      "=================================================================\n",
      "Total params: 212\n",
      "Trainable params: 212\n",
      "Non-trainable params: 0\n",
      "_________________________________________________________________\n",
      "                                               \n"
     ]
    }
   ],
   "source": [
    "# Model summary\n",
    "print(\"                                               \")\n",
    "model10.summary()\n",
    "print(\"                                               \")\n",
    "model5.summary()\n",
    "print(\"                                               \")\n",
    "model3.summary()\n",
    "print(\"                                               \")\n",
    "model2.summary()\n",
    "print(\"                                               \")"
   ]
  },
  {
   "cell_type": "markdown",
   "metadata": {},
   "source": [
    "## 3. Define optimizer: Stochastic gradient descent "
   ]
  },
  {
   "cell_type": "code",
   "execution_count": 9,
   "metadata": {},
   "outputs": [],
   "source": [
    "SGD = tf.keras.optimizers.SGD()"
   ]
  },
  {
   "cell_type": "markdown",
   "metadata": {},
   "source": [
    "## 4. Compile model"
   ]
  },
  {
   "cell_type": "code",
   "execution_count": 10,
   "metadata": {},
   "outputs": [],
   "source": [
    "model10.compile(optimizer='SGD',loss='categorical_crossentropy',metrics=['categorical_accuracy'])\n",
    "model5.compile(optimizer='SGD',loss='categorical_crossentropy',metrics=['categorical_accuracy'])\n",
    "model3.compile(optimizer='SGD',loss='categorical_crossentropy',metrics=['categorical_accuracy'])\n",
    "model2.compile(optimizer='SGD',loss='categorical_crossentropy',metrics=['categorical_accuracy'])"
   ]
  },
  {
   "cell_type": "markdown",
   "metadata": {},
   "source": [
    "## 5. Fit model "
   ]
  },
  {
   "cell_type": "code",
   "execution_count": 11,
   "metadata": {
    "scrolled": true
   },
   "outputs": [
    {
     "name": "stdout",
     "output_type": "stream",
     "text": [
      "Epoch 1/5\n",
      "27/27 [==============================] - 3s 74ms/step - loss: 13.1916 - categorical_accuracy: 0.2264 - val_loss: 2.2540 - val_categorical_accuracy: 0.3333\n",
      "Epoch 2/5\n",
      "27/27 [==============================] - 0s 9ms/step - loss: 2.2961 - categorical_accuracy: 0.2528 - val_loss: 2.2397 - val_categorical_accuracy: 0.3333\n",
      "Epoch 3/5\n",
      "27/27 [==============================] - 0s 10ms/step - loss: 2.2749 - categorical_accuracy: 0.2489 - val_loss: 2.2477 - val_categorical_accuracy: 0.2727\n",
      "Epoch 4/5\n",
      "27/27 [==============================] - 0s 7ms/step - loss: 2.2527 - categorical_accuracy: 0.2469 - val_loss: 2.2322 - val_categorical_accuracy: 0.2727\n",
      "Epoch 5/5\n",
      "27/27 [==============================] - 0s 8ms/step - loss: 2.2288 - categorical_accuracy: 0.2911 - val_loss: 2.2166 - val_categorical_accuracy: 0.2727\n",
      "Epoch 1/5\n",
      "27/27 [==============================] - 1s 17ms/step - loss: 9.2888 - categorical_accuracy: 0.2643 - val_loss: 1.6002 - val_categorical_accuracy: 0.3030\n",
      "Epoch 2/5\n",
      "27/27 [==============================] - 0s 9ms/step - loss: 1.6028 - categorical_accuracy: 0.3112 - val_loss: 1.5931 - val_categorical_accuracy: 0.3030\n",
      "Epoch 3/5\n",
      "27/27 [==============================] - 0s 8ms/step - loss: 1.5868 - categorical_accuracy: 0.3419 - val_loss: 1.5867 - val_categorical_accuracy: 0.3030\n",
      "Epoch 4/5\n",
      "27/27 [==============================] - 0s 8ms/step - loss: 1.5847 - categorical_accuracy: 0.2843 - val_loss: 1.5807 - val_categorical_accuracy: 0.3030\n",
      "Epoch 5/5\n",
      "27/27 [==============================] - 0s 11ms/step - loss: 1.5802 - categorical_accuracy: 0.3131 - val_loss: 1.5753 - val_categorical_accuracy: 0.3030\n",
      "Epoch 1/5\n",
      "27/27 [==============================] - 1s 21ms/step - loss: 5.4101 - categorical_accuracy: 0.3214 - val_loss: 1.0951 - val_categorical_accuracy: 0.4848\n",
      "Epoch 2/5\n",
      "27/27 [==============================] - 0s 10ms/step - loss: 1.1665 - categorical_accuracy: 0.4124 - val_loss: 1.0902 - val_categorical_accuracy: 0.4848\n",
      "Epoch 3/5\n",
      "27/27 [==============================] - 0s 7ms/step - loss: 1.1684 - categorical_accuracy: 0.4196 - val_loss: 1.0858 - val_categorical_accuracy: 0.4848\n",
      "Epoch 4/5\n",
      "27/27 [==============================] - 0s 5ms/step - loss: 1.1382 - categorical_accuracy: 0.4519 - val_loss: 1.0815 - val_categorical_accuracy: 0.4848\n",
      "Epoch 5/5\n",
      "27/27 [==============================] - 0s 3ms/step - loss: 1.1605 - categorical_accuracy: 0.4531 - val_loss: 1.0762 - val_categorical_accuracy: 0.4848\n",
      "Epoch 1/5\n",
      "27/27 [==============================] - 1s 18ms/step - loss: 6.3321 - categorical_accuracy: 0.5990 - val_loss: 0.6308 - val_categorical_accuracy: 0.6970\n",
      "Epoch 2/5\n",
      "27/27 [==============================] - 0s 3ms/step - loss: 0.6774 - categorical_accuracy: 0.6397 - val_loss: 0.6471 - val_categorical_accuracy: 0.6970\n",
      "Epoch 3/5\n",
      "27/27 [==============================] - 0s 3ms/step - loss: 0.6634 - categorical_accuracy: 0.6739 - val_loss: 0.6085 - val_categorical_accuracy: 0.6970\n",
      "Epoch 4/5\n",
      "27/27 [==============================] - 0s 3ms/step - loss: 0.6353 - categorical_accuracy: 0.7503 - val_loss: 0.6637 - val_categorical_accuracy: 0.6970\n",
      "Epoch 5/5\n",
      "27/27 [==============================] - 0s 3ms/step - loss: 0.6715 - categorical_accuracy: 0.6810 - val_loss: 0.6498 - val_categorical_accuracy: 0.6970\n"
     ]
    }
   ],
   "source": [
    "history10=model10.fit(X_train, \n",
    "          Y_train10,\n",
    "          epochs=epochs, \n",
    "          batch_size=batch_size, \n",
    "          validation_data=(X_validate,Y_validate10),\n",
    "          verbose=1,\n",
    "          )\n",
    "history5=model5.fit(X_train, \n",
    "          Y_train5,\n",
    "          epochs=epochs, \n",
    "          batch_size=batch_size, \n",
    "          validation_data=(X_validate,Y_validate5),\n",
    "          verbose=1,\n",
    "          )\n",
    "history3=model3.fit(X_train, \n",
    "          Y_train3,\n",
    "          epochs=epochs, \n",
    "          batch_size=batch_size, \n",
    "          validation_data=(X_validate,Y_validate3),\n",
    "          verbose=1,\n",
    "          )\n",
    "history2=model2.fit(X_train, \n",
    "          Y_train2,\n",
    "          epochs=epochs, \n",
    "          batch_size=batch_size,  \n",
    "          validation_data=(X_validate,Y_validate2),\n",
    "          verbose=1,\n",
    "          )"
   ]
  },
  {
   "cell_type": "markdown",
   "metadata": {},
   "source": [
    "## 6. summarize performance"
   ]
  },
  {
   "cell_type": "code",
   "execution_count": 12,
   "metadata": {},
   "outputs": [
    {
     "data": {
      "image/png": "[encoded data removed]",
      "text/plain": [
       "<Figure size 432x288 with 1 Axes>"
      ]
     },
     "metadata": {
      "needs_background": "light"
     },
     "output_type": "display_data"
    },
    {
     "data": {
      "image/png": "[encoded data removed]",
      "text/plain": [
       "<Figure size 432x288 with 1 Axes>"
      ]
     },
     "metadata": {
      "needs_background": "light"
     },
     "output_type": "display_data"
    },
    {
     "data": {
      "image/png": "[encoded data removed]",
      "text/plain": [
       "<Figure size 432x288 with 1 Axes>"
      ]
     },
     "metadata": {
      "needs_background": "light"
     },
     "output_type": "display_data"
    },
    {
     "data": {
      "image/png": "[encoded data removed]",
      "text/plain": [
       "<Figure size 432x288 with 1 Axes>"
      ]
     },
     "metadata": {
      "needs_background": "light"
     },
     "output_type": "display_data"
    }
   ],
   "source": [
    "# summarize history for accuracy\n",
    "plt.plot(history10.history['categorical_accuracy'])\n",
    "plt.plot(history10.history['val_categorical_accuracy'])\n",
    "plt.title('model10 categorical_accuracy')\n",
    "plt.ylabel('categorical_accuracy')\n",
    "plt.xlabel('epoch')\n",
    "plt.legend(['train', 'test'], loc='lower right')\n",
    "plt.yticks([0,0.1,0.2,0.3,0.4,0.5,0.6,0.7,0.8,0.9,1])\n",
    "plt.show()\n",
    "\n",
    "# summarize history for accuracy\n",
    "plt.plot(history5.history['categorical_accuracy'])\n",
    "plt.plot(history5.history['val_categorical_accuracy'])\n",
    "plt.title('model5 categorical_accuracy')\n",
    "plt.ylabel('categorical_accuracy')\n",
    "plt.xlabel('epoch')\n",
    "plt.legend(['train', 'test'], loc='lower right')\n",
    "plt.yticks([0,0.1,0.2,0.3,0.4,0.5,0.6,0.7,0.8,0.9,1])\n",
    "plt.show()\n",
    "\n",
    "# summarize history for accuracy\n",
    "plt.plot(history3.history['categorical_accuracy'])\n",
    "plt.plot(history3.history['val_categorical_accuracy'])\n",
    "plt.title('model3 categorical_accuracy')\n",
    "plt.ylabel('categorical_accuracy')\n",
    "plt.xlabel('epoch')\n",
    "plt.legend(['train', 'test'], loc='lower right')\n",
    "plt.yticks([0,0.1,0.2,0.3,0.4,0.5,0.6,0.7,0.8,0.9,1])\n",
    "plt.show()\n",
    "\n",
    "# summarize history for accuracy\n",
    "plt.plot(history2.history['categorical_accuracy'])\n",
    "plt.plot(history2.history['val_categorical_accuracy'])\n",
    "plt.title('model2 categorical_accuracy')\n",
    "plt.ylabel('categorical_accuracy')\n",
    "plt.xlabel('epoch')\n",
    "plt.legend(['train', 'test'], loc='lower right')\n",
    "plt.yticks([0,0.1,0.2,0.3,0.4,0.5,0.6,0.7,0.8,0.9,1])\n",
    "plt.show()"
   ]
  },
  {
   "cell_type": "code",
   "execution_count": 13,
   "metadata": {
    "scrolled": true
   },
   "outputs": [
    {
     "data": {
      "image/png": "[encoded data removed]",
      "text/plain": [
       "<Figure size 432x288 with 1 Axes>"
      ]
     },
     "metadata": {
      "needs_background": "light"
     },
     "output_type": "display_data"
    },
    {
     "data": {
      "image/png": "[encoded data removed]",
      "text/plain": [
       "<Figure size 432x288 with 1 Axes>"
      ]
     },
     "metadata": {
      "needs_background": "light"
     },
     "output_type": "display_data"
    },
    {
     "data": {
      "image/png": "[encoded data removed]",
      "text/plain": [
       "<Figure size 432x288 with 1 Axes>"
      ]
     },
     "metadata": {
      "needs_background": "light"
     },
     "output_type": "display_data"
    },
    {
     "data": {
      "image/png": "[encoded data removed]",
      "text/plain": [
       "<Figure size 432x288 with 1 Axes>"
      ]
     },
     "metadata": {
      "needs_background": "light"
     },
     "output_type": "display_data"
    }
   ],
   "source": [
    "# initializing repl_chr \n",
    "repl_chr = 3\n",
    "  \n",
    "# one liner to solve problem\n",
    "loss10 = [repl_chr if ele > 3 else ele for ele in history10.history['loss']]\n",
    "val_loss10 = [repl_chr if ele > 3 else ele for ele in history10.history['val_loss']]\n",
    "loss5 = [repl_chr if ele > 3 else ele for ele in history5.history['loss']]\n",
    "val_loss5 = [repl_chr if ele > 3 else ele for ele in history5.history['val_loss']]\n",
    "loss3 = [repl_chr if ele > 3 else ele for ele in history3.history['loss']]\n",
    "val_loss3 = [repl_chr if ele > 3 else ele for ele in history3.history['val_loss']]\n",
    "loss2 = [repl_chr if ele > 3 else ele for ele in history2.history['loss']]\n",
    "val_loss2 = [repl_chr if ele > 3 else ele for ele in history2.history['val_loss']]\n",
    "\n",
    "\n",
    "# summarize history for loss\n",
    "plt.plot(loss10)\n",
    "plt.plot(val_loss10)\n",
    "plt.title('model10 loss')\n",
    "plt.ylabel('loss')\n",
    "plt.xlabel('epoch')\n",
    "plt.legend(['train', 'test'], loc='upper right')\n",
    "plt.yticks([0,0.5,1,1.5,2,2.5,3])\n",
    "plt.show()\n",
    "\n",
    "# summarize history for loss\n",
    "plt.plot(loss5)\n",
    "plt.plot(val_loss5)\n",
    "plt.title('model5 loss')\n",
    "plt.ylabel('loss')\n",
    "plt.xlabel('epoch')\n",
    "plt.legend(['train', 'test'], loc='upper right')\n",
    "plt.yticks([0,0.5,1,1.5,2,2.5,3])\n",
    "plt.show()\n",
    "\n",
    "# summarize history for loss\n",
    "plt.plot(loss3)\n",
    "plt.plot(val_loss3)\n",
    "plt.title('model3 loss')\n",
    "plt.ylabel('loss')\n",
    "plt.xlabel('epoch')\n",
    "plt.legend(['train', 'test'], loc='upper right')\n",
    "plt.yticks([0,0.5,1,1.5,2,2.5,3])\n",
    "plt.show()\n",
    "\n",
    "# summarize history for loss\n",
    "plt.plot(loss2)\n",
    "plt.plot(val_loss2)\n",
    "plt.title('model2 loss')\n",
    "plt.ylabel('loss')\n",
    "plt.xlabel('epoch')\n",
    "plt.legend(['train', 'test'], loc='upper right')\n",
    "plt.yticks([0,0.5,1,1.5,2,2.5,3])\n",
    "plt.show()"
   ]
  },
  {
   "cell_type": "markdown",
   "metadata": {},
   "source": [
    "## 7. Model evaluation with test data set "
   ]
  },
  {
   "cell_type": "code",
   "execution_count": 14,
   "metadata": {
    "scrolled": false
   },
   "outputs": [
    {
     "name": "stdout",
     "output_type": "stream",
     "text": [
      "4/4 [==============================] - 0s 2ms/step - loss: 2.2373 - categorical_accuracy: 0.2424\n"
     ]
    }
   ],
   "source": [
    "# Prediction at test data set\n",
    "Y_pred10 = model10.predict(X_test)\n",
    "score10 = model10.evaluate(X_test, Y_test10,batch_size=10, verbose=1)"
   ]
  },
  {
   "cell_type": "code",
   "execution_count": 15,
   "metadata": {},
   "outputs": [
    {
     "name": "stdout",
     "output_type": "stream",
     "text": [
      "4/4 [==============================] - 0s 0s/step - loss: 1.5933 - categorical_accuracy: 0.2424\n"
     ]
    }
   ],
   "source": [
    "# Prediction at test data set\n",
    "Y_pred5 = model5.predict(X_test)\n",
    "score5 = model5.evaluate(X_test, Y_test5,batch_size=10, verbose=1)"
   ]
  },
  {
   "cell_type": "code",
   "execution_count": 16,
   "metadata": {
    "scrolled": true
   },
   "outputs": [
    {
     "name": "stdout",
     "output_type": "stream",
     "text": [
      "4/4 [==============================] - 0s 4ms/step - loss: 1.0818 - categorical_accuracy: 0.4545\n"
     ]
    }
   ],
   "source": [
    "# Prediction at test data set\n",
    "Y_pred3 = model3.predict(X_test)\n",
    "score3 = model3.evaluate(X_test, Y_test3,batch_size=10, verbose=1)"
   ]
  },
  {
   "cell_type": "code",
   "execution_count": 17,
   "metadata": {},
   "outputs": [
    {
     "name": "stdout",
     "output_type": "stream",
     "text": [
      "4/4 [==============================] - 0s 3ms/step - loss: 0.6334 - categorical_accuracy: 0.7576\n"
     ]
    }
   ],
   "source": [
    "# Prediction at test data set\n",
    "Y_pred2 = model2.predict(X_test)\n",
    "score2 = model2.evaluate(X_test, Y_test2,batch_size=10, verbose=1)"
   ]
  },
  {
   "cell_type": "code",
   "execution_count": 18,
   "metadata": {
    "scrolled": true
   },
   "outputs": [
    {
     "name": "stdout",
     "output_type": "stream",
     "text": [
      "-----層: 3 /節點: 10 /batch_size: 10 /epoch: 5 -----\n",
      "分10類：\n",
      "categorical_accuracy : 24.24%\n",
      "                loss : 2.24\n",
      " \n",
      "分5類：\n",
      "categorical_accuracy : 24.24%\n",
      "                loss : 1.59\n",
      " \n",
      "分3類：\n",
      "categorical_accuracy : 45.45%\n",
      "                loss : 1.08\n",
      " \n",
      "分2類：\n",
      "categorical_accuracy : 75.76%\n",
      "                loss : 0.63\n",
      " \n"
     ]
    }
   ],
   "source": [
    "print(\"-----層:\",layers,\"/節點:\",hiddenadd_num_units,\"/batch_size:\",batch_size,\"/epoch:\",epochs,\"-----\")\n",
    "print(\"分10類：\")\n",
    "print(\"categorical_accuracy : %.2f%%\" % (score10[1]*100))\n",
    "print(\"                loss : %.2f\" % (score10[0]))\n",
    "print(\" \")\n",
    "print(\"分5類：\")\n",
    "print(\"categorical_accuracy : %.2f%%\" % (score5[1]*100))\n",
    "print(\"                loss : %.2f\" % (score5[0]))\n",
    "print(\" \")\n",
    "print(\"分3類：\")\n",
    "print(\"categorical_accuracy : %.2f%%\" % (score3[1]*100))\n",
    "print(\"                loss : %.2f\" % (score3[0]))\n",
    "print(\" \")\n",
    "print(\"分2類：\")\n",
    "print(\"categorical_accuracy : %.2f%%\" % (score2[1]*100))\n",
    "print(\"                loss : %.2f\" % (score2[0]))\n",
    "print(\" \")"
   ]
  },
  {
   "cell_type": "code",
   "execution_count": 19,
   "metadata": {},
   "outputs": [],
   "source": [
    "Y_pred10c = Y_pred10\n",
    "Y_test10c = Y_test10.to_numpy(dtype='float')\n",
    "Y_pred5c = Y_pred5\n",
    "Y_test5c = Y_test5.to_numpy(dtype='float')"
   ]
  },
  {
   "cell_type": "code",
   "execution_count": 20,
   "metadata": {},
   "outputs": [],
   "source": [
    "for i in range(Y_pred10c.shape[0]):\n",
    "    maxY=max(Y_pred10c[i])\n",
    "    for j in range(Y_pred10c.shape[1]):\n",
    "        if Y_pred10c[i,j] == maxY:\n",
    "            Y_pred10c[i,j] = 1\n",
    "        else:\n",
    "            Y_pred10c[i,j] = 0\n",
    "            \n",
    "for i in range(Y_pred5c.shape[0]):\n",
    "    maxY=max(Y_pred5c[i])\n",
    "    for j in range(Y_pred5c.shape[1]):\n",
    "        if Y_pred5c[i,j] == maxY:\n",
    "            Y_pred5c[i,j] = 1\n",
    "        else:\n",
    "            Y_pred5c[i,j] = 0"
   ]
  },
  {
   "cell_type": "code",
   "execution_count": 22,
   "metadata": {
    "scrolled": true
   },
   "outputs": [
    {
     "name": "stdout",
     "output_type": "stream",
     "text": [
      "oneAway accurency of 10class =57.58%\n",
      "oneAway accurency of 5class =27.27%\n"
     ]
    }
   ],
   "source": [
    "oneAway10 =1\n",
    "            \n",
    "for i in range(Y_pred10c.shape[0]):\n",
    "    for j in range(Y_pred10c.shape[1]):\n",
    "        if Y_test10c[i,j] == 1:\n",
    "            if j == 0:\n",
    "                if Y_pred10c[i,j] == 1 or Y_pred10c[i,j+1] == 1:\n",
    "                    oneAway10 = oneAway10 +1\n",
    "            elif j == Y_pred10c.shape[1]-1:\n",
    "                if Y_pred10c[i,j-1] == 1 or Y_pred10c[i,j] == 1:\n",
    "                    oneAway10 = oneAway10 +1\n",
    "            else:\n",
    "                if Y_pred10c[i,j-1] == 1 or Y_pred10c[i,j] or Y_pred10c[i,j+1] == 1:\n",
    "                    oneAway10 = oneAway10 +1\n",
    "            break\n",
    "print(\"oneAway accurency of 10class =%.2f%%\" % (oneAway10/Y_pred10c.shape[0]*100))\n",
    "\n",
    "oneAway5 =1\n",
    "            \n",
    "for i in range(Y_pred5c.shape[0]):\n",
    "    for j in range(Y_pred5c.shape[1]):\n",
    "        if Y_test5c[i,j] == 1:\n",
    "            if j == 0:\n",
    "                if Y_pred5c[i,j] == 1 or Y_pred5c[i,j+1] == 1:\n",
    "                    oneAway5 = oneAway5 +1\n",
    "            elif j == 3:\n",
    "                if Y_pred5c[i,j-1] == 1 or Y_pred5c[i,j] == 1:\n",
    "                    oneAway5 = oneAway5 +1\n",
    "            elif j == 4:\n",
    "                if Y_pred5c[i,j] == 1:\n",
    "                    oneAway5 = oneAway5 +1\n",
    "            else:\n",
    "                if Y_pred5c[i,j-1] == 1 or Y_pred5c[i,j] or Y_pred5c[i,j+1] == 1:\n",
    "                    oneAway5 = oneAway5 +1\n",
    "            break\n",
    "print(\"oneAway accurency of 5class =%.2f%%\" % (oneAway5/Y_pred5c.shape[0]*100))"
   ]
  },
  {
   "cell_type": "code",
   "execution_count": 23,
   "metadata": {},
   "outputs": [],
   "source": [
    "from tempfile import NamedTemporaryFile\n",
    "import shutil\n",
    "import csv\n",
    "\n",
    "fields = ['pg','c10_accur','c10_oneAway','c5_accur','c5_oneAway','c3_accur','c2_accur']\n",
    "writelist = [\"DNN\",\"pg\",\n",
    "             \"%.2f%%\" % (score10[1]*100),\"%.2f%%\" % (oneAway10/Y_pred10c.shape[0]*100),\n",
    "             \"%.2f%%\" % (score5[1]*100),\"%.2f%%\" % (oneAway5/Y_pred5c.shape[0]*100),\n",
    "             \"%.2f%%\" % (score3[1]*100),\"%.2f%%\" % (score2[1]*100)]\n",
    "\n",
    "with open('result.csv', 'a', newline='') as csvfile:\n",
    "    writer = csv.writer(csvfile)\n",
    "    writer.writerow(writelist)\n",
    "    csvfile.close()"
   ]
  },
  {
   "cell_type": "code",
   "execution_count": null,
   "metadata": {},
   "outputs": [],
   "source": []
  }
 ],
 "metadata": {
  "kernelspec": {
   "display_name": "Python 3",
   "language": "python",
   "name": "python3"
  },
  "language_info": {
   "codemirror_mode": {
    "name": "ipython",
    "version": 3
   },
   "file_extension": ".py",
   "mimetype": "text/x-python",
   "name": "python",
   "nbconvert_exporter": "python",
   "pygments_lexer": "ipython3",
   "version": "3.8.5"
  }
 },
 "nbformat": 4,
 "nbformat_minor": 2
}
